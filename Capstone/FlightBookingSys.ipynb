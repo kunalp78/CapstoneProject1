{
 "cells": [
  {
   "cell_type": "code",
   "execution_count": 3,
   "id": "9fa98d79-6fc9-490d-b6fc-29003876a0a6",
   "metadata": {},
   "outputs": [],
   "source": [
    "c = hash(\"abc\")"
   ]
  },
  {
   "cell_type": "code",
   "execution_count": 2,
   "id": "4c8275de-2035-4251-9e71-fd45963188d5",
   "metadata": {},
   "outputs": [],
   "source": [
    "b = \"abc\""
   ]
  },
  {
   "cell_type": "code",
   "execution_count": 4,
   "id": "8502be10-9bc2-4ac0-bb1c-82d4964f7ded",
   "metadata": {},
   "outputs": [
    {
     "data": {
      "text/plain": [
       "True"
      ]
     },
     "execution_count": 4,
     "metadata": {},
     "output_type": "execute_result"
    }
   ],
   "source": [
    "hash(b) == c"
   ]
  },
  {
   "cell_type": "code",
   "execution_count": 5,
   "id": "6d7b51fc-6713-4a6b-a116-98f237119595",
   "metadata": {},
   "outputs": [],
   "source": [
    "class User:\n",
    "    \"\"\"\n",
    "    User Registration and Login:\n",
    "        o\tUsers can register and log in with their credentials.\n",
    "        o\tPassword validation and encryption can be added for security.\n",
    "    \"\"\"\n",
    "    users = {}\n",
    "    def __init__(self, name, username, password):\n",
    "        self.name = name\n",
    "        self.username = username\n",
    "        self.password = password\n",
    "        self.booking = []\n",
    "    \n",
    "    @classmethod\n",
    "    def register(cls):\n",
    "        name = input(\"Enter the Name: \")\n",
    "        username = input(\"Enter the username: \")\n",
    "        password = input(\"Enter the password: \")\n",
    "        if username in cls.users:\n",
    "            print(\"Username already esxists!!\")\n",
    "            return None\n",
    "        cls.users[username] = User(name, username, password)\n",
    "        print(\"User Registration Successfull!!\")\n",
    "        return cls.users[username]"
   ]
  },
  {
   "cell_type": "code",
   "execution_count": 6,
   "id": "68e5d1b8-169b-4209-bf16-cc641a6b04ca",
   "metadata": {},
   "outputs": [
    {
     "name": "stdin",
     "output_type": "stream",
     "text": [
      "Enter the Name:  Nainish\n",
      "Enter the username:  coolnainish\n",
      "Enter the password:  12345\n"
     ]
    },
    {
     "name": "stdout",
     "output_type": "stream",
     "text": [
      "User Registration Successfull!!\n"
     ]
    }
   ],
   "source": [
    "u1 = User.register()"
   ]
  },
  {
   "cell_type": "code",
   "execution_count": 7,
   "id": "31b95203-dc6c-4f4e-bc73-39b88a889441",
   "metadata": {},
   "outputs": [
    {
     "data": {
      "text/plain": [
       "{'coolnainish': <__main__.User at 0x2344991c1a0>}"
      ]
     },
     "execution_count": 7,
     "metadata": {},
     "output_type": "execute_result"
    }
   ],
   "source": [
    "u1.users"
   ]
  },
  {
   "cell_type": "code",
   "execution_count": 8,
   "id": "4b8407db-d251-4071-a4c7-cf84c6637036",
   "metadata": {},
   "outputs": [
    {
     "data": {
      "text/plain": [
       "{'name': 'Nainish',\n",
       " 'username': 'coolnainish',\n",
       " 'password': '12345',\n",
       " 'booking': []}"
      ]
     },
     "execution_count": 8,
     "metadata": {},
     "output_type": "execute_result"
    }
   ],
   "source": [
    "u1.users['coolnainish'].__dict__"
   ]
  },
  {
   "cell_type": "code",
   "execution_count": 9,
   "id": "845d3560-a053-4dcf-b041-aabc0da10680",
   "metadata": {},
   "outputs": [],
   "source": [
    "class User:\n",
    "    \"\"\"\n",
    "    User Registration and Login:\n",
    "        o\tUsers can register and log in with their credentials.\n",
    "        o\tPassword validation and encryption can be added for security.\n",
    "    \"\"\"\n",
    "    users = {}\n",
    "    def __init__(self, name, username, password):\n",
    "        self.name = name\n",
    "        self.username = username\n",
    "        self.password = hash(password)\n",
    "        self.booking = []\n",
    "    \n",
    "    @classmethod\n",
    "    def register(cls):\n",
    "        name = input(\"Enter the Name: \")\n",
    "        username = input(\"Enter the username: \")\n",
    "        password = input(\"Enter the password: \")\n",
    "        if username in cls.users:\n",
    "            print(\"Username already esxists!!\")\n",
    "            return None\n",
    "        cls.users[username] = User(name, username, password)\n",
    "        print(\"User Registration Successfull!!\")\n",
    "        return cls.users[username]"
   ]
  },
  {
   "cell_type": "code",
   "execution_count": 10,
   "id": "58e717b4-9d5a-4bbf-ba05-58e564a2dc5f",
   "metadata": {},
   "outputs": [
    {
     "name": "stdin",
     "output_type": "stream",
     "text": [
      "Enter the Name:  Martin\n",
      "Enter the username:  reachlinmartin\n",
      "Enter the password:  00000000\n"
     ]
    },
    {
     "name": "stdout",
     "output_type": "stream",
     "text": [
      "User Registration Successfull!!\n"
     ]
    }
   ],
   "source": [
    "u1 = User.register()"
   ]
  },
  {
   "cell_type": "code",
   "execution_count": 11,
   "id": "a3888663-7be2-4d63-b56c-e84941852278",
   "metadata": {},
   "outputs": [
    {
     "data": {
      "text/plain": [
       "{'name': 'Martin',\n",
       " 'username': 'reachlinmartin',\n",
       " 'password': 1975349633818198061,\n",
       " 'booking': []}"
      ]
     },
     "execution_count": 11,
     "metadata": {},
     "output_type": "execute_result"
    }
   ],
   "source": [
    "u1.users[\"reachlinmartin\"].__dict__"
   ]
  },
  {
   "cell_type": "code",
   "execution_count": 12,
   "id": "8d483f98-0ee6-4ccf-83c5-863dca683f10",
   "metadata": {},
   "outputs": [
    {
     "data": {
      "text/plain": [
       "1975349633818198061"
      ]
     },
     "execution_count": 12,
     "metadata": {},
     "output_type": "execute_result"
    }
   ],
   "source": [
    "u1.users[\"reachlinmartin\"].password"
   ]
  },
  {
   "cell_type": "code",
   "execution_count": 13,
   "id": "32bab5de-85bd-4277-a1e9-c9fc9926065d",
   "metadata": {},
   "outputs": [],
   "source": [
    "c = \"00000000\""
   ]
  },
  {
   "cell_type": "code",
   "execution_count": 14,
   "id": "7bac15f7-5f09-40ef-ba96-88d6de25e282",
   "metadata": {},
   "outputs": [
    {
     "data": {
      "text/plain": [
       "True"
      ]
     },
     "execution_count": 14,
     "metadata": {},
     "output_type": "execute_result"
    }
   ],
   "source": [
    "hash(c) == u1.users[\"reachlinmartin\"].password"
   ]
  },
  {
   "cell_type": "code",
   "execution_count": 16,
   "id": "b1f3f753-5556-4f16-a348-7b0d743c7599",
   "metadata": {},
   "outputs": [
    {
     "name": "stdout",
     "output_type": "stream",
     "text": [
      "hey I am here00000000hi i am below 1975349633818198061\n"
     ]
    }
   ],
   "source": [
    "print(f\"hey I am here{c}\"\n",
    "      f\"hi i am below {hash(c)}\")\n"
   ]
  },
  {
   "cell_type": "code",
   "execution_count": null,
   "id": "34c1e52e-af41-4fa5-8728-445e7458cece",
   "metadata": {},
   "outputs": [],
   "source": []
  }
 ],
 "metadata": {
  "kernelspec": {
   "display_name": "Python 3 (ipykernel)",
   "language": "python",
   "name": "python3"
  },
  "language_info": {
   "codemirror_mode": {
    "name": "ipython",
    "version": 3
   },
   "file_extension": ".py",
   "mimetype": "text/x-python",
   "name": "python",
   "nbconvert_exporter": "python",
   "pygments_lexer": "ipython3",
   "version": "3.13.0"
  }
 },
 "nbformat": 4,
 "nbformat_minor": 5
}
