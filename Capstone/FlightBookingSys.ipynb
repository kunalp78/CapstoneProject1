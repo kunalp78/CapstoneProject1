{
 "cells": [
  {
   "cell_type": "code",
   "execution_count": 3,
   "id": "9fa98d79-6fc9-490d-b6fc-29003876a0a6",
   "metadata": {},
   "outputs": [],
   "source": [
    "c = hash(\"abc\")"
   ]
  },
  {
   "cell_type": "code",
   "execution_count": 2,
   "id": "4c8275de-2035-4251-9e71-fd45963188d5",
   "metadata": {},
   "outputs": [],
   "source": [
    "b = \"abc\""
   ]
  },
  {
   "cell_type": "code",
   "execution_count": 4,
   "id": "8502be10-9bc2-4ac0-bb1c-82d4964f7ded",
   "metadata": {},
   "outputs": [
    {
     "data": {
      "text/plain": [
       "True"
      ]
     },
     "execution_count": 4,
     "metadata": {},
     "output_type": "execute_result"
    }
   ],
   "source": [
    "hash(b) == c"
   ]
  },
  {
   "cell_type": "code",
   "execution_count": 5,
   "id": "6d7b51fc-6713-4a6b-a116-98f237119595",
   "metadata": {},
   "outputs": [],
   "source": [
    "class User:\n",
    "    \"\"\"\n",
    "    User Registration and Login:\n",
    "        o\tUsers can register and log in with their credentials.\n",
    "        o\tPassword validation and encryption can be added for security.\n",
    "    \"\"\"\n",
    "    users = {}\n",
    "    def __init__(self, name, username, password):\n",
    "        self.name = name\n",
    "        self.username = username\n",
    "        self.password = password\n",
    "        self.booking = []\n",
    "    \n",
    "    @classmethod\n",
    "    def register(cls):\n",
    "        name = input(\"Enter the Name: \")\n",
    "        username = input(\"Enter the username: \")\n",
    "        password = input(\"Enter the password: \")\n",
    "        if username in cls.users:\n",
    "            print(\"Username already esxists!!\")\n",
    "            return None\n",
    "        cls.users[username] = User(name, username, password)\n",
    "        print(\"User Registration Successfull!!\")\n",
    "        return cls.users[username]"
   ]
  },
  {
   "cell_type": "code",
   "execution_count": 6,
   "id": "68e5d1b8-169b-4209-bf16-cc641a6b04ca",
   "metadata": {},
   "outputs": [
    {
     "name": "stdin",
     "output_type": "stream",
     "text": [
      "Enter the Name:  Nainish\n",
      "Enter the username:  coolnainish\n",
      "Enter the password:  12345\n"
     ]
    },
    {
     "name": "stdout",
     "output_type": "stream",
     "text": [
      "User Registration Successfull!!\n"
     ]
    }
   ],
   "source": [
    "u1 = User.register()"
   ]
  },
  {
   "cell_type": "code",
   "execution_count": 7,
   "id": "31b95203-dc6c-4f4e-bc73-39b88a889441",
   "metadata": {},
   "outputs": [
    {
     "data": {
      "text/plain": [
       "{'coolnainish': <__main__.User at 0x2344991c1a0>}"
      ]
     },
     "execution_count": 7,
     "metadata": {},
     "output_type": "execute_result"
    }
   ],
   "source": [
    "u1.users"
   ]
  },
  {
   "cell_type": "code",
   "execution_count": 8,
   "id": "4b8407db-d251-4071-a4c7-cf84c6637036",
   "metadata": {},
   "outputs": [
    {
     "data": {
      "text/plain": [
       "{'name': 'Nainish',\n",
       " 'username': 'coolnainish',\n",
       " 'password': '12345',\n",
       " 'booking': []}"
      ]
     },
     "execution_count": 8,
     "metadata": {},
     "output_type": "execute_result"
    }
   ],
   "source": [
    "u1.users['coolnainish'].__dict__"
   ]
  },
  {
   "cell_type": "code",
   "execution_count": 9,
   "id": "845d3560-a053-4dcf-b041-aabc0da10680",
   "metadata": {},
   "outputs": [],
   "source": [
    "class User:\n",
    "    \"\"\"\n",
    "    User Registration and Login:\n",
    "        o\tUsers can register and log in with their credentials.\n",
    "        o\tPassword validation and encryption can be added for security.\n",
    "    \"\"\"\n",
    "    users = {}\n",
    "    def __init__(self, name, username, password):\n",
    "        self.name = name\n",
    "        self.username = username\n",
    "        self.password = hash(password)\n",
    "        self.booking = []\n",
    "    \n",
    "    @classmethod\n",
    "    def register(cls):\n",
    "        name = input(\"Enter the Name: \")\n",
    "        username = input(\"Enter the username: \")\n",
    "        password = input(\"Enter the password: \")\n",
    "        if username in cls.users:\n",
    "            print(\"Username already esxists!!\")\n",
    "            return None\n",
    "        cls.users[username] = User(name, username, password)\n",
    "        print(\"User Registration Successfull!!\")\n",
    "        return cls.users[username]"
   ]
  },
  {
   "cell_type": "code",
   "execution_count": 10,
   "id": "58e717b4-9d5a-4bbf-ba05-58e564a2dc5f",
   "metadata": {},
   "outputs": [
    {
     "name": "stdin",
     "output_type": "stream",
     "text": [
      "Enter the Name:  Martin\n",
      "Enter the username:  reachlinmartin\n",
      "Enter the password:  00000000\n"
     ]
    },
    {
     "name": "stdout",
     "output_type": "stream",
     "text": [
      "User Registration Successfull!!\n"
     ]
    }
   ],
   "source": [
    "u1 = User.register()"
   ]
  },
  {
   "cell_type": "code",
   "execution_count": 11,
   "id": "a3888663-7be2-4d63-b56c-e84941852278",
   "metadata": {},
   "outputs": [
    {
     "data": {
      "text/plain": [
       "{'name': 'Martin',\n",
       " 'username': 'reachlinmartin',\n",
       " 'password': 1975349633818198061,\n",
       " 'booking': []}"
      ]
     },
     "execution_count": 11,
     "metadata": {},
     "output_type": "execute_result"
    }
   ],
   "source": [
    "u1.users[\"reachlinmartin\"].__dict__"
   ]
  },
  {
   "cell_type": "code",
   "execution_count": 12,
   "id": "8d483f98-0ee6-4ccf-83c5-863dca683f10",
   "metadata": {},
   "outputs": [
    {
     "data": {
      "text/plain": [
       "1975349633818198061"
      ]
     },
     "execution_count": 12,
     "metadata": {},
     "output_type": "execute_result"
    }
   ],
   "source": [
    "u1.users[\"reachlinmartin\"].password"
   ]
  },
  {
   "cell_type": "code",
   "execution_count": 13,
   "id": "32bab5de-85bd-4277-a1e9-c9fc9926065d",
   "metadata": {},
   "outputs": [],
   "source": [
    "c = \"00000000\""
   ]
  },
  {
   "cell_type": "code",
   "execution_count": 14,
   "id": "7bac15f7-5f09-40ef-ba96-88d6de25e282",
   "metadata": {},
   "outputs": [
    {
     "data": {
      "text/plain": [
       "True"
      ]
     },
     "execution_count": 14,
     "metadata": {},
     "output_type": "execute_result"
    }
   ],
   "source": [
    "hash(c) == u1.users[\"reachlinmartin\"].password"
   ]
  },
  {
   "cell_type": "code",
   "execution_count": 16,
   "id": "b1f3f753-5556-4f16-a348-7b0d743c7599",
   "metadata": {},
   "outputs": [
    {
     "name": "stdout",
     "output_type": "stream",
     "text": [
      "hey I am here00000000hi i am below 1975349633818198061\n"
     ]
    }
   ],
   "source": [
    "print(f\"hey I am here{c}\"\n",
    "      f\"hi i am below {hash(c)}\")\n"
   ]
  },
  {
   "cell_type": "code",
   "execution_count": null,
   "id": "34c1e52e-af41-4fa5-8728-445e7458cece",
   "metadata": {},
   "outputs": [],
   "source": [
    "user1 = User(\"Mahesh\", \"mahesh.m.matam\", \"123545\")\n",
    "user1.login()"
   ]
  },
  {
   "cell_type": "code",
   "execution_count": null,
   "id": "408bf20f-3bb3-4401-9e78-298cfa16da29",
   "metadata": {},
   "outputs": [],
   "source": []
  },
  {
   "cell_type": "code",
   "execution_count": null,
   "id": "ff2be495-6cd2-4da4-81b2-754fc06c73c7",
   "metadata": {},
   "outputs": [],
   "source": []
  },
  {
   "cell_type": "code",
   "execution_count": 18,
   "id": "4f90276c-2357-4c1c-afbc-9e84cc8551cd",
   "metadata": {},
   "outputs": [],
   "source": [
    "nums = [n for n in range(10)]"
   ]
  },
  {
   "cell_type": "code",
   "execution_count": 19,
   "id": "0b6430f4-60d1-4b5e-89ea-750cde6ec63f",
   "metadata": {},
   "outputs": [
    {
     "data": {
      "text/plain": [
       "[0, 1, 2, 3, 4, 5, 6, 7, 8, 9]"
      ]
     },
     "execution_count": 19,
     "metadata": {},
     "output_type": "execute_result"
    }
   ],
   "source": [
    "nums"
   ]
  },
  {
   "cell_type": "code",
   "execution_count": 20,
   "id": "4be87e07-6739-4947-b578-4f6354a3ff9e",
   "metadata": {},
   "outputs": [],
   "source": [
    "odd_nums = [n for n in range(10) if n%2 != 0]"
   ]
  },
  {
   "cell_type": "code",
   "execution_count": 21,
   "id": "3a01a422-c0f5-4bdf-87e2-864e0b4a903f",
   "metadata": {},
   "outputs": [
    {
     "data": {
      "text/plain": [
       "[1, 3, 5, 7, 9]"
      ]
     },
     "execution_count": 21,
     "metadata": {},
     "output_type": "execute_result"
    }
   ],
   "source": [
    "odd_nums"
   ]
  },
  {
   "cell_type": "code",
   "execution_count": 22,
   "id": "b9dc9854-5352-47b0-acf8-18dda86a0644",
   "metadata": {},
   "outputs": [],
   "source": [
    "l = []\n",
    "for i in range(10):\n",
    "    if i%2 != 0:\n",
    "        l.append(i)"
   ]
  },
  {
   "cell_type": "code",
   "execution_count": 23,
   "id": "69689f2c-3590-49a0-af60-244cf1f8824c",
   "metadata": {},
   "outputs": [
    {
     "data": {
      "text/plain": [
       "[1, 3, 5, 7, 9]"
      ]
     },
     "execution_count": 23,
     "metadata": {},
     "output_type": "execute_result"
    }
   ],
   "source": [
    "l"
   ]
  },
  {
   "cell_type": "code",
   "execution_count": null,
   "id": "57d214d9-3be9-4491-b025-817bbe07d30e",
   "metadata": {},
   "outputs": [],
   "source": []
  },
  {
   "cell_type": "code",
   "execution_count": null,
   "id": "bb08746d-446c-4301-b0eb-073bc9a50f4d",
   "metadata": {},
   "outputs": [],
   "source": []
  },
  {
   "cell_type": "code",
   "execution_count": 27,
   "id": "62541431-c04c-470e-be5d-66cb8a11cef5",
   "metadata": {},
   "outputs": [],
   "source": [
    "\n",
    "\n",
    "class User:\n",
    "    \"\"\"\n",
    "    User Registration and Login:\n",
    "        o\tUsers can register and log in with their credentials.\n",
    "        o\tPassword validation and encryption can be added for security.\n",
    "    \"\"\"\n",
    "    users = {}\n",
    "    def __init__(self, name, username, password):\n",
    "        self.name = name\n",
    "        self.username = username\n",
    "        self.password = hash(password)\n",
    "        self.booking = []\n",
    "    \n",
    "    @classmethod\n",
    "    def register(cls):\n",
    "        name = input(\"Enter the Name: \")\n",
    "        username = input(\"Enter the username: \")\n",
    "        password = input(\"Enter the password: \")\n",
    "        if username in cls.users:\n",
    "            print(\"Username already esxists!!\")\n",
    "            return None\n",
    "        cls.users[username] = User(name, username, password)\n",
    "        print(\"User Registration Successfull!!\")\n",
    "        return cls.users[username]\n",
    "    \n",
    "    @staticmethod\n",
    "    def login():\n",
    "        username = input(\"Enter the username: \")\n",
    "        password = input(\"Enter the password: \")\n",
    "        if username in User.users and hash(User.users[username].password) == password:\n",
    "            print(\"Login Successfull!!\")\n",
    "            return User.users[username]\n",
    "        print(\"Invalid useraname or password!!\")\n",
    "        return None\n",
    "    \n",
    "\n",
    "class Flight:\n",
    "    \"\"\"\n",
    "    1. Flight Search:\n",
    "        o\tUsers can search for available flights based on source, destination, and date.\n",
    "    2.\tFlight Booking:\n",
    "        o\tUsers can select a flight and book tickets.\n",
    "        o\tHandle seat availability and pricing dynamically.\n",
    "    \"\"\"\n",
    "    def __init__(self, flight_no, source, destination, date, seats, price):\n",
    "        self.flight_no = flight_no\n",
    "        self.source = source\n",
    "        self.destination = destination\n",
    "        self.date = date\n",
    "        self.seats = seats\n",
    "        self.price = price\n",
    "    \n",
    "    def display_details(self):\n",
    "        print(f\"Flight No: {self.flight_no} | From: {self.source} | To: {self.destination} | \"\n",
    "              f\"Date: {self.date} | Seat Available: {self.seats} | Price: {self.price}\")\n",
    "\n",
    "\n",
    "class Booking:\n",
    "    \"\"\"\n",
    "    Booking History:\n",
    "        o\tUsers can view their booking history.\n",
    "        o\tProvide options to cancel a booking.\n",
    "    \"\"\"\n",
    "    def __init__(self, user, flight, seats_booked):\n",
    "        self.user = user\n",
    "        self.flight = flight\n",
    "        self.seats_booked = seats_booked\n",
    "    \n",
    "    def display_booking(self):\n",
    "        print(f\"User: {self.user.username} | Price: {self.flight.price * self.seats_booked}$\")\n",
    "        \n",
    "\n",
    "class Admin:\n",
    "    \"\"\"\n",
    "    Admin Panel:\n",
    "        o\tAdmins can add or update flights.\n",
    "        o\tView all bookings and user details\n",
    "    \"\"\"\n",
    "    def __init__(self, password):\n",
    "        self.password = hash(password)\n",
    "    @classmethod\n",
    "    def add_flight(self, flights):\n",
    "        flight_no = input(\"Enter the flight number: \")\n",
    "        source = input(\"Enter the source: \")\n",
    "        destination = input(\"Enter the destination: \")\n",
    "        date = input(\"Enter the date (YYYY-MM-DD): \")\n",
    "        seats = input(\"Enter the seats: \")\n",
    "        price = float(input(\"Enter the price of each seat: \"))\n",
    "        flight = Flight(flight_no, source, destination, date, seats, price)\n",
    "        flights.append(flight)\n",
    "        print(\"Flight is added successfully!!\")\n",
    "\n"
   ]
  },
  {
   "cell_type": "code",
   "execution_count": 28,
   "id": "4374bb9b-58b7-4ac6-be61-f7439c70ef8b",
   "metadata": {},
   "outputs": [],
   "source": [
    "u1 = User(\"Mahesh\", \"mahesh.m\", \"125486\")"
   ]
  },
  {
   "cell_type": "code",
   "execution_count": 29,
   "id": "8889ad01-d9c0-4d7b-ba28-db5758dc5287",
   "metadata": {},
   "outputs": [
    {
     "name": "stdin",
     "output_type": "stream",
     "text": [
      "Enter the flight number:  12345\n",
      "Enter the source:  Bangalore\n",
      "Enter the destination:  Maharastra\n",
      "Enter the date (YYYY-MM-DD):  2024-11-12\n",
      "Enter the seats:  40\n",
      "Enter the price of each seat:  1200\n"
     ]
    },
    {
     "name": "stdout",
     "output_type": "stream",
     "text": [
      "Flight is added successfully!!\n"
     ]
    }
   ],
   "source": [
    "l = []\n",
    "add = Admin.add_flight(l)"
   ]
  },
  {
   "cell_type": "code",
   "execution_count": 30,
   "id": "de465492-4815-4299-ab2d-4380a4066155",
   "metadata": {},
   "outputs": [
    {
     "data": {
      "text/plain": [
       "[<__main__.Flight at 0x2344991d400>]"
      ]
     },
     "execution_count": 30,
     "metadata": {},
     "output_type": "execute_result"
    }
   ],
   "source": [
    "l"
   ]
  },
  {
   "cell_type": "code",
   "execution_count": 32,
   "id": "c48b23c4-9a29-4c1d-8d87-2011c07ba425",
   "metadata": {},
   "outputs": [
    {
     "data": {
      "text/plain": [
       "'12345'"
      ]
     },
     "execution_count": 32,
     "metadata": {},
     "output_type": "execute_result"
    }
   ],
   "source": [
    "l[0].flight_no"
   ]
  },
  {
   "cell_type": "code",
   "execution_count": 55,
   "id": "8ca34e57-440e-4d68-8297-489824a78f53",
   "metadata": {},
   "outputs": [],
   "source": [
    "class User:\n",
    "    \"\"\"\n",
    "    User Registration and Login:\n",
    "        o\tUsers can register and log in with their credentials.\n",
    "        o\tPassword validation and encryption can be added for security.\n",
    "    \"\"\"\n",
    "    users = {}\n",
    "    def __init__(self, name, username, password):\n",
    "        self.name = name\n",
    "        self.username = username\n",
    "        self.password = hash(password)\n",
    "        self.booking = []\n",
    "    \n",
    "    @classmethod\n",
    "    def register(cls):\n",
    "        name = input(\"Enter the Name: \")\n",
    "        username = input(\"Enter the username: \")\n",
    "        password = input(\"Enter the password: \")\n",
    "        if username in cls.users:\n",
    "            print(\"Username already esxists!!\")\n",
    "            return None\n",
    "        cls.users[username] = User(name, username, password)\n",
    "        print(\"User Registration Successfull!!\")\n",
    "        return cls.users[username]\n",
    "    \n",
    "    @staticmethod\n",
    "    def login():\n",
    "        username = input(\"Enter the username: \")\n",
    "        password = input(\"Enter the password: \")\n",
    "        print(username in User.users)\n",
    "        print(hash(User.users[username].password), password)\n",
    "        if username in User.users and User.users[username].password == hash(password):\n",
    "            print(\"Login Successfull!!\")\n",
    "            return User.users[username]\n",
    "        print(\"Invalid useraname or password!!\")\n",
    "        return None\n",
    "    \n"
   ]
  },
  {
   "cell_type": "code",
   "execution_count": 53,
   "id": "dc47dc83-d3b9-4bce-8f0d-4726a9136d39",
   "metadata": {},
   "outputs": [
    {
     "name": "stdin",
     "output_type": "stream",
     "text": [
      "Enter the Name:  abc\n",
      "Enter the username:  abc\n",
      "Enter the password:  abc\n"
     ]
    },
    {
     "name": "stdout",
     "output_type": "stream",
     "text": [
      "User Registration Successfull!!\n"
     ]
    }
   ],
   "source": [
    "u = User.register()"
   ]
  },
  {
   "cell_type": "code",
   "execution_count": 54,
   "id": "aef17a67-64e7-4254-a550-c98ad3bbec2b",
   "metadata": {},
   "outputs": [
    {
     "name": "stdin",
     "output_type": "stream",
     "text": [
      "Enter the username:  abc\n",
      "Enter the password:  abc\n"
     ]
    },
    {
     "name": "stdout",
     "output_type": "stream",
     "text": [
      "True\n",
      "1646238379596583622 abc\n",
      "Invalid useraname or password!!\n"
     ]
    }
   ],
   "source": [
    "u.login()"
   ]
  },
  {
   "cell_type": "code",
   "execution_count": 40,
   "id": "5e882a59-cf83-4c4d-9342-eb35187b8530",
   "metadata": {},
   "outputs": [
    {
     "data": {
      "text/plain": [
       "{'abc': <__main__.User at 0x23449c10ec0>}"
      ]
     },
     "execution_count": 40,
     "metadata": {},
     "output_type": "execute_result"
    }
   ],
   "source": [
    "u.users"
   ]
  },
  {
   "cell_type": "code",
   "execution_count": 51,
   "id": "95277757-9f74-4a4e-b5cf-b4b87a4f0302",
   "metadata": {},
   "outputs": [
    {
     "data": {
      "text/plain": [
       "8563767407237665475"
      ]
     },
     "execution_count": 51,
     "metadata": {},
     "output_type": "execute_result"
    }
   ],
   "source": [
    "u.users['abc'].password"
   ]
  },
  {
   "cell_type": "code",
   "execution_count": null,
   "id": "5bb386e6-59b5-4b00-899c-264432efd4e6",
   "metadata": {},
   "outputs": [],
   "source": [
    "hash("
   ]
  }
 ],
 "metadata": {
  "kernelspec": {
   "display_name": "Python 3 (ipykernel)",
   "language": "python",
   "name": "python3"
  },
  "language_info": {
   "codemirror_mode": {
    "name": "ipython",
    "version": 3
   },
   "file_extension": ".py",
   "mimetype": "text/x-python",
   "name": "python",
   "nbconvert_exporter": "python",
   "pygments_lexer": "ipython3",
   "version": "3.13.0"
  }
 },
 "nbformat": 4,
 "nbformat_minor": 5
}
